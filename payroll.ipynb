{
  "nbformat": 4,
  "nbformat_minor": 0,
  "metadata": {
    "colab": {
      "provenance": [],
      "authorship_tag": "ABX9TyP0ru41K7bhLeb7owYqbIDv",
      "include_colab_link": true
    },
    "kernelspec": {
      "name": "python3",
      "display_name": "Python 3"
    },
    "language_info": {
      "name": "python"
    }
  },
  "cells": [
    {
      "cell_type": "markdown",
      "metadata": {
        "id": "view-in-github",
        "colab_type": "text"
      },
      "source": [
        "<a href=\"https://colab.research.google.com/github/RiadMhajne/DataAnalyst/blob/main/payroll.ipynb\" target=\"_parent\"><img src=\"https://colab.research.google.com/assets/colab-badge.svg\" alt=\"Open In Colab\"/></a>"
      ]
    },
    {
      "cell_type": "markdown",
      "source": [
        "# **Research question:**\n",
        "One of the best ways to understand a city and how it works is to analyze the salaries of the various employees residing in the city. This gives an evaluation criteria for the government as well to understand how the citizens are compensated. A closer look at employees and their salaries shows the kind of jobs that are in demand, the kind of jobs which offer the highest packages and can help give job aspirants an idea of which fields have more to offer in terms of monetary benefits. An analysis of the salaries of employees in a city also gives an idea of how demographics within the city affects job positions and incomes."
      ],
      "metadata": {
        "id": "3dqJTtzDZwTi"
      }
    },
    {
      "cell_type": "markdown",
      "source": [
        "unzip the tow givven files"
      ],
      "metadata": {
        "id": "UocTqtVGIyLY"
      }
    },
    {
      "cell_type": "code",
      "source": [
        "!unzip file2.zip"
      ],
      "metadata": {
        "colab": {
          "base_uri": "https://localhost:8080/"
        },
        "id": "KKLFbJWMxto6",
        "outputId": "f1f0c49a-630a-4865-f7a1-0818e80163a2"
      },
      "execution_count": null,
      "outputs": [
        {
          "output_type": "stream",
          "name": "stdout",
          "text": [
            "Archive:  file2.zip\n",
            "  inflating: processed-payroll.csv   \n",
            "  inflating: payroll.csv             \n",
            "  inflating: ReadMe.txt              \n",
            "  inflating: BigData.pptx            \n"
          ]
        }
      ]
    },
    {
      "cell_type": "markdown",
      "source": [
        "importing the need libraries "
      ],
      "metadata": {
        "id": "2Ma6GXHBI9Q_"
      }
    },
    {
      "cell_type": "code",
      "source": [
        "from sklearn.model_selection import train_test_split\n",
        "from sklearn.metrics import mean_absolute_error\n",
        "from sklearn.ensemble import RandomForestRegressor\n",
        "from sklearn import tree\n",
        "from sklearn import metrics\n",
        "from sklearn.ensemble import RandomForestClassifier\n",
        "from sklearn.metrics import confusion_matrix\n",
        "import numpy as np\n",
        "import pandas as pd\n",
        "import matplotlib.pyplot as plt\n",
        "import statsmodels.api as sm\n",
        "from scipy import stats"
      ],
      "metadata": {
        "id": "jUqM2JjdHZWy"
      },
      "execution_count": null,
      "outputs": []
    },
    {
      "cell_type": "markdown",
      "source": [
        "open the file as dataframe and drop the wrong(nigative pay) and missing information (nan values)"
      ],
      "metadata": {
        "id": "deEnclyHJJfp"
      }
    },
    {
      "cell_type": "code",
      "source": [
        "df = pd.read_csv(\"payroll.csv\", low_memory=False)\n",
        "df.dropna(inplace=True)\n",
        "df = df.loc[(df['REGULAR_PAY'] >= 0)& (df['OVERTIME_PAY'] >= 0)& (df['ALL_OTHER_PAY'] >= 0)& (df['TOTAL_PAY'] >= 0)& (df['CITY_RETIREMENT_CONTRIBUTIONS'] >= 0)& (df['BENEFIT_PAY'] >= 0)]\n",
        "df"
      ],
      "metadata": {
        "id": "xWklHMBzJGdZ"
      },
      "execution_count": null,
      "outputs": []
    },
    {
      "cell_type": "markdown",
      "source": [
        "# **analyzing the data**"
      ],
      "metadata": {
        "id": "jYyziekOPk8R"
      }
    },
    {
      "cell_type": "markdown",
      "source": [
        "function that prints top n most paid record and top n least paid records"
      ],
      "metadata": {
        "id": "coHl0XGCJnPm"
      }
    },
    {
      "cell_type": "code",
      "source": [
        "def nPaid(df,n):\n",
        "  nmp = df.sort_values('TOTAL_PAY', ascending=False)[0:n]\n",
        "  lmp = df.sort_values('TOTAL_PAY', ascending=True)[0:n]\n",
        "  print(f\"            top {n} most paid\")\n",
        "  print()\n",
        "  for i in range(n):\n",
        "    ar = nmp.iloc[i].tolist()\n",
        "    print(\"record:\",ar[0])\n",
        "    print(\"year:\",ar[1])\n",
        "    print(\"department title:\",ar[3])\n",
        "    print(\"job title:\",ar[5])\n",
        "    print(\"total pay:\",ar[-5])\n",
        "    print(\"             -------------------\")\n",
        "  print()\n",
        "  print(f\"            top {n} least paid\")\n",
        "  print()\n",
        "  for i in range(n):\n",
        "    ar = lmp.iloc[i].tolist()\n",
        "    print(\"record:\",ar[0])\n",
        "    print(\"year:\",ar[1])\n",
        "    print(\"department title:\",ar[3])\n",
        "    print(\"job title:\",ar[5])\n",
        "    print(\"total pay:\",ar[-5])\n",
        "    print(\"             -------------------\")\n",
        "\n",
        "\n"
      ],
      "metadata": {
        "id": "skOo5xwAJYxB"
      },
      "execution_count": null,
      "outputs": []
    },
    {
      "cell_type": "markdown",
      "source": [
        "function that prints top n most paid jobs , least paid jobs and most comon jobs"
      ],
      "metadata": {
        "id": "npPeS_AKJ2LX"
      }
    },
    {
      "cell_type": "code",
      "source": [
        "def nPaidJobs(df,n):\n",
        "  ddf=df\n",
        "  df = round(df.groupby('JOB_TITLE')['REGULAR_PAY'].sum() / df.groupby('JOB_TITLE')['REGULAR_PAY'].count())\n",
        "  sdf = df.sort_values(ascending=False)[0:n]\n",
        "  m = sdf.tolist()\n",
        "  idx = sdf.index\n",
        "  plt.title(f\"top {n} most paid jobs\")\n",
        "  plt.xlabel(\"jobs\\n\\n\\n\\n\\n\\n\\n\")\n",
        "  plt.ylabel(\"average pay\")\n",
        "  plt.xticks(rotation=90)\n",
        "  plt.bar(idx, m, color ='green',\n",
        "        width = 0.4)\n",
        "  plt.show()\n",
        "  print(f\"            top {n} most paid jobs\")\n",
        "  print()\n",
        "  print(\"                       job                               | average pay\")\n",
        "  print(\"----------------------------------------------------------------------------\")\n",
        "  for i in range(n):\n",
        "    print(idx[i],\" \"*(55-len(idx[i])),f\"| {m[i]}\")\n",
        "\n",
        "  sdf = df.sort_values(ascending=True)[0:n]\n",
        "  m = sdf.tolist()\n",
        "  idx = sdf.index\n",
        "  plt.title(f\"top {n} least paid jobs\")\n",
        "  plt.xlabel(\"jobs\\n\\n\\n\\n\\n\\n\\n\")\n",
        "  plt.ylabel(\"payment in average\")\n",
        "  plt.xticks(rotation=90)\n",
        "  plt.bar(idx, m, color ='red',width = 0.4)\n",
        "  plt.show()\n",
        " \n",
        "  print()\n",
        "  print()\n",
        "  print(f\"            top {n} least paid jobs\")\n",
        "  print()\n",
        "  print(\"                       job                               | average pay\")\n",
        "  print(\"----------------------------------------------------------------------------\")\n",
        "  for i in range(n):\n",
        "    print(idx[i],\" \"*(55-len(idx[i])),f\"| {m[i]}\")\n",
        "  print()\n",
        "  print()\n",
        "  job = ddf.groupby(\"JOB_TITLE\")[\"JOB_TITLE\"].count().sort_values(ascending=False)[0:n]\n",
        "  m = job.tolist()\n",
        "  idx = job.index\n",
        "  plt.title(f\"top {n} most comon jobs\")\n",
        "  plt.xlabel(\"jobs\\n\\n\\n\\n\\n\\n\\n\")\n",
        "  plt.ylabel(\"count\")\n",
        "  plt.xticks(rotation=90)\n",
        "  plt.bar(idx, m, color ='red',width = 0.4)\n",
        "  plt.show()\n",
        "  print(f\"            top {n} most comon jobs\")\n",
        "  print()\n",
        "  print(\"                       job                               | count\")\n",
        "  print(\"----------------------------------------------------------------------------\")\n",
        "  for i in range(n):\n",
        "    print(idx[i],\" \"*(55-len(idx[i])),f\"| {m[i]}\")\n",
        "  \n"
      ],
      "metadata": {
        "id": "13K4X9afaF6N"
      },
      "execution_count": null,
      "outputs": []
    },
    {
      "cell_type": "markdown",
      "source": [
        "analysing the dataset by comparing the valuse of different columns"
      ],
      "metadata": {
        "id": "lXjMWe3SKHQe"
      }
    },
    {
      "cell_type": "code",
      "source": [
        "def groups_diff(df):\n",
        "  gn = round(df.groupby(\"GENDER\")[\"TOTAL_PAY\"].sum()/df.groupby(\"GENDER\")[\"TOTAL_PAY\"].count())\n",
        "  gn=gn.sort_values(ascending=False)\n",
        "  race = round(df.groupby(\"ETHNICITY\")[\"TOTAL_PAY\"].sum()/df.groupby(\"ETHNICITY\")[\"TOTAL_PAY\"].count())\n",
        "  race=race.sort_values(ascending=False)\n",
        "  year = round(df.groupby(\"PAY_YEAR\")[\"TOTAL_PAY\"].sum()/df.groupby(\"PAY_YEAR\")[\"TOTAL_PAY\"].count())\n",
        "  act = round(df.groupby(\"JOB_STATUS\")[\"JOB_STATUS\"].count())\n",
        "  m = gn.tolist()\n",
        "  idx = gn.index\n",
        "  gn.plot.bar(color = \"cyan\",rot=0)\n",
        "  plt.xlabel(\"gender\")\n",
        "  plt.ylabel(\"average pay\")\n",
        "  \n",
        "  plt.show()\n",
        "  print(\"gender   | average pay\")\n",
        "  print(\"----------------------\")\n",
        "  for i in range(len(gn)):\n",
        "    ar = gn.iloc[i].tolist()\n",
        "    print(idx[i],\" \"*(7-len(idx[i])),f\"| {m[i]}\")\n",
        "  print()\n",
        "  print()\n",
        "  m = race.tolist()\n",
        "  idx = race.index\n",
        "  race.plot.bar(color = \"black\",rot=0)\n",
        "  plt.xlabel(\"gender\")\n",
        "  plt.ylabel(\"average pay\")\n",
        "  plt.xticks(rotation=90)\n",
        "  plt.show()\n",
        "  print(\"ethnicity                       | average pay\")\n",
        "  print(\"---------------------------------------------\")\n",
        "  for i in range(len(race)):\n",
        "    print(idx[i],\" \"*(30-len(idx[i])),f\"| {m[i]}\")\n",
        "  print()\n",
        "  print()\n",
        "  m = year.tolist()\n",
        "  idx = year.index\n",
        "  print(\"year | average per year\")\n",
        "  print(\"-----------------------\")\n",
        "  for i in range(len(year)):\n",
        "    print(idx[i],f\"| {m[i]}\")\n",
        "  print()\n",
        "  print()\n",
        "  m = act.tolist()\n",
        "  idx = act.index\n",
        "  print(\"status      | count\")\n",
        "  print(\"-------------------\")\n",
        "  for i in range(len(act)):\n",
        "    print(idx[i],\" \"*(10-len(idx[i])),f\"| {m[i]}\")\n"
      ],
      "metadata": {
        "id": "FoIKF9iDpDUz"
      },
      "execution_count": null,
      "outputs": []
    },
    {
      "cell_type": "markdown",
      "source": [
        "plotting a graph of linear regression and calculating correlation between all the numeric columns with \"regular pay\""
      ],
      "metadata": {
        "id": "ITaiCgaTK1Vt"
      }
    },
    {
      "cell_type": "code",
      "source": [
        "def linear_corr(df):\n",
        "  var = [\"OVERTIME_PAY\",\"ALL_OTHER_PAY\",\"TOTAL_PAY\",\"CITY_RETIREMENT_CONTRIBUTIONS\",\"BENEFIT_PAY\",\"PAY_YEAR\"]\n",
        "  s = df.loc[:,[\"OVERTIME_PAY\",\"ALL_OTHER_PAY\",\"TOTAL_PAY\",\"CITY_RETIREMENT_CONTRIBUTIONS\",\"BENEFIT_PAY\",\"PAY_YEAR\"]].apply(lambda x: stats.pearsonr(x, df[\"REGULAR_PAY\"]))\n",
        "  s= pd.Series(s.loc[0],index = s.columns)\n",
        "  s=s.sort_values(key=lambda x: abs(x),ascending=False)\n",
        "  idx = np.arange(0,len(s),1)\n",
        "  plt.title(\"correlation with regular pay\")\n",
        "  plt.xlabel(\"variables\\n\\n\\n\\n\\n\\n\\n\")\n",
        "  plt.ylabel(\"correlation value\")\n",
        "  plt.xticks(rotation=45)\n",
        "  plt.plot(s.index,abs(s.values ))\n",
        "  plt.show()\n",
        "  for i in range(len(s)):\n",
        "    if s.index[i] ==\"TOTAL_PAY\":\n",
        "       plt.xlim(0,700000)\n",
        "    elif s.index[i] ==\"ALL_OTHER_PAY\":\n",
        "       plt.xlim(0,350000)\n",
        "    elif  s.index[i] ==\"BENEFIT_PAY\":\n",
        "       plt.xlim(0,65000)\n",
        "    plt.xlabel(s.index[i])\n",
        "    plt.ylabel(\"regular pay\")\n",
        "    m, b = np.polyfit(df[s.index[i]], df[\"REGULAR_PAY\"], 1)\n",
        "    # plt.set_ylim([-0.5,1.5])\n",
        "    plt.plot(df[s.index[i]],df[\"REGULAR_PAY\"],\"o\")\n",
        "    plt.plot(df[s.index[i]],m*df[s.index[i]]+b)\n",
        "    plt.show()"
      ],
      "metadata": {
        "id": "MkJ_avcSH9US"
      },
      "execution_count": null,
      "outputs": []
    },
    {
      "cell_type": "code",
      "source": [
        "nPaid(df,9)"
      ],
      "metadata": {
        "id": "KurGvRNNHsc3"
      },
      "execution_count": null,
      "outputs": []
    },
    {
      "cell_type": "code",
      "source": [
        " nPaid(df.loc[(df['REGULAR_PAY'] > 0) & (df['JOB_STATUS'] == \"ACTIVE\")],9)"
      ],
      "metadata": {
        "id": "PDYT5cotFEo9"
      },
      "execution_count": null,
      "outputs": []
    },
    {
      "cell_type": "code",
      "source": [
        "nPaidJobs(df,10)"
      ],
      "metadata": {
        "id": "HsgWsfS_IEfO"
      },
      "execution_count": null,
      "outputs": []
    },
    {
      "cell_type": "code",
      "source": [
        "nPaidJobs(df.loc[(df['REGULAR_PAY'] > 0) & (df['JOB_STATUS'] == \"ACTIVE\")],10)"
      ],
      "metadata": {
        "id": "UhVNa-cbQ1zM"
      },
      "execution_count": null,
      "outputs": []
    },
    {
      "cell_type": "code",
      "source": [
        "groups_diff(df)"
      ],
      "metadata": {
        "colab": {
          "base_uri": "https://localhost:8080/",
          "height": 1000
        },
        "id": "vWWTprV-IHPw",
        "outputId": "3d9989d2-d549-4023-fafa-2595147560a2"
      },
      "execution_count": null,
      "outputs": [
        {
          "output_type": "display_data",
          "data": {
            "text/plain": [
              "<Figure size 432x288 with 1 Axes>"
            ],
            "image/png": "[encoded data removed]"
          },
          "metadata": {
            "needs_background": "light"
          }
        },
        {
          "output_type": "stream",
          "name": "stdout",
          "text": [
            "gender   | average pay\n",
            "----------------------\n",
            "MALE     | 85118.0\n",
            "FEMALE   | 54552.0\n",
            "OTHER    | 38047.0\n",
            "UNKNOWN  | 9952.0\n",
            "\n",
            "\n"
          ]
        },
        {
          "output_type": "display_data",
          "data": {
            "text/plain": [
              "<Figure size 432x288 with 1 Axes>"
            ],
            "image/png": "[encoded data removed]"
          },
          "metadata": {
            "needs_background": "light"
          }
        },
        {
          "output_type": "stream",
          "name": "stdout",
          "text": [
            "ethnicity                       | average pay\n",
            "---------------------------------------------\n",
            "ASIAN AMERICAN                  | 110907.0\n",
            "NATIVE_AMERICAN                 | 110479.0\n",
            "FILLIPINO                       | 107841.0\n",
            "AMERICAN INDIAN/ALASKAN NATIVE  | 105110.0\n",
            "CAUCASIAN                       | 91701.0\n",
            "NOT APPLICABLE                  | 88516.0\n",
            "ASIAN                           | 78960.0\n",
            "AMERICAN INDIAN                 | 78464.0\n",
            "FILIPINO                        | 76842.0\n",
            "HISPANIC                        | 69398.0\n",
            "BLACK                           | 65772.0\n",
            "UNKNOWN                         | 53990.0\n",
            "PACIFIC ISLANDER                | 46156.0\n",
            "TWO OR MORE RACES               | 33814.0\n",
            "OTHER                           | 22630.0\n",
            "\n",
            "\n",
            "year | average per year\n",
            "-----------------------\n",
            "2013 | 73385.0\n",
            "2014 | 77348.0\n",
            "2015 | 75408.0\n",
            "2016 | 70639.0\n",
            "2017 | 73525.0\n",
            "2018 | 71946.0\n",
            "2019 | 79480.0\n",
            "2020 | 88578.0\n",
            "2021 | 85775.0\n",
            "2022 | 44444.0\n",
            "\n",
            "\n",
            "status      | count\n",
            "-------------------\n",
            "ACTIVE      | 392712\n",
            "NOT_ACTIVE  | 283581\n"
          ]
        }
      ]
    },
    {
      "cell_type": "code",
      "source": [
        "linear_corr(df)"
      ],
      "metadata": {
        "colab": {
          "base_uri": "https://localhost:8080/",
          "height": 1000
        },
        "id": "362TIdjZII-O",
        "outputId": "2aa008d5-3b42-4e22-b8d5-ce550b833d57"
      },
      "execution_count": null,
      "outputs": [
        {
          "output_type": "display_data",
          "data": {
            "text/plain": [
              "<Figure size 432x288 with 1 Axes>"
            ],
            "image/png": "[encoded data removed]"
          },
          "metadata": {
            "needs_background": "light"
          }
        },
        {
          "output_type": "display_data",
          "data": {
            "text/plain": [
              "<Figure size 432x288 with 1 Axes>"
            ],
            "image/png": "[encoded data removed]"
          },
          "metadata": {
            "needs_background": "light"
          }
        },
        {
          "output_type": "display_data",
          "data": {
            "text/plain": [
              "<Figure size 432x288 with 1 Axes>"
            ],
            "image/png": "[encoded data removed]"
          },
          "metadata": {
            "needs_background": "light"
          }
        },
        {
          "output_type": "display_data",
          "data": {
            "text/plain": [
              "<Figure size 432x288 with 1 Axes>"
            ],
            "image/png": "[encoded data removed]"
          },
          "metadata": {
            "needs_background": "light"
          }
        },
        {
          "output_type": "display_data",
          "data": {
            "text/plain": [
              "<Figure size 432x288 with 1 Axes>"
            ],
            "image/png": "[encoded data removed]"
          },
          "metadata": {
            "needs_background": "light"
          }
        },
        {
          "output_type": "display_data",
          "data": {
            "text/plain": [
              "<Figure size 432x288 with 1 Axes>"
            ],
            "image/png": "[encoded data removed]"
          },
          "metadata": {
            "needs_background": "light"
          }
        },
        {
          "output_type": "display_data",
          "data": {
            "text/plain": [
              "<Figure size 432x288 with 1 Axes>"
            ],
            "image/png": "[encoded data removed]"
          },
          "metadata": {
            "needs_background": "light"
          }
        }
      ]
    },
    {
      "cell_type": "markdown",
      "source": [
        "# **Prediction using machine learning**"
      ],
      "metadata": {
        "id": "jcs93Q87MOCr"
      }
    },
    {
      "cell_type": "markdown",
      "source": [
        "preparing the dataset"
      ],
      "metadata": {
        "id": "Gf235ROYLpnc"
      }
    },
    {
      "cell_type": "code",
      "source": [
        "df2 = pd.read_csv(\"processed-payroll.csv\", low_memory=False, index_col='REGULAR_PAY')\n",
        "df2.drop('Unnamed: 0', axis=1, inplace=True)\n",
        "df2 = df2.loc[(df2['JOB_STATUS'] == 'ACTIVE')& (df2['EMPLOYMENT_TYPE'] == 'FULL_TIME')] #consider just the active and full time employees\n",
        "df2.drop(['EMPLOYMENT_TYPE', 'JOB_STATUS', 'MOU', 'MOU_TITLE','TOTAL_PAY'], axis=1, inplace=True)# droppping the columns that wont be useful to the prediction\n",
        "df2"
      ],
      "metadata": {
        "colab": {
          "base_uri": "https://localhost:8080/",
          "height": 710
        },
        "id": "hy6_2snL0WgY",
        "outputId": "00095039-51ae-4961-bbc5-28109d752e93"
      },
      "execution_count": null,
      "outputs": [
        {
          "output_type": "execute_result",
          "data": {
            "text/plain": [
              "             PAY_YEAR  DEPARTMENT_NO DEPARTMENT_TITLE  JOB_CLASS_PGRADE  \\\n",
              "REGULAR_PAY                                                               \n",
              "55725.24         2017             98  WATER AND POWER              3156   \n",
              "139174.88        2017             98  WATER AND POWER              9105   \n",
              "245879.12        2017             98  WATER AND POWER              9602   \n",
              "101494.34        2017             98  WATER AND POWER              5885   \n",
              "101345.12        2017             98  WATER AND POWER              3841   \n",
              "...               ...            ...              ...               ...   \n",
              "100406.40        2022             12    CITY ATTORNEY               597   \n",
              "69062.40         2022             42           HARBOR              9485   \n",
              "32927.90         2022              4         AIRPORTS              3181   \n",
              "39156.66         2022             70           POLICE              2214   \n",
              "40299.31         2022             70           POLICE              3711   \n",
              "\n",
              "                           JOB_TITLE  OVERTIME_PAY  ALL_OTHER_PAY  \\\n",
              "REGULAR_PAY                                                         \n",
              "55725.24                   CUSTODIAN       4785.05        2021.84   \n",
              "139174.88      UTILITY ADMINISTRATOR      16340.50        6170.49   \n",
              "245879.12     WATER SERVICES MANAGER          0.00       12504.30   \n",
              "101494.34              WTR TRTMT OPR       7824.99       12630.52   \n",
              "101345.12                  ELTL MCHC      22284.37        1566.75   \n",
              "...                              ...           ...            ...   \n",
              "100406.40    DEPUTY CITY ATTORNEY IV          0.00           0.00   \n",
              "69062.40       SENIOR CIVIL ENGINEER          0.00        9193.85   \n",
              "32927.90            SECURITY OFFICER       4855.63        2533.37   \n",
              "39156.66           POLICE OFFICER II       4978.06        3480.00   \n",
              "40299.31          EQUIPMENT MECHANIC       5438.40        3830.20   \n",
              "\n",
              "             CITY_RETIREMENT_CONTRIBUTIONS  BENEFIT_PAY  GENDER  \\\n",
              "REGULAR_PAY                                                       \n",
              "55725.24                           3678.00     23508.90  FEMALE   \n",
              "139174.88                          9186.00     23508.90  FEMALE   \n",
              "245879.12                         16228.00     23508.90    MALE   \n",
              "101494.34                          6699.00     23508.90    MALE   \n",
              "101345.12                          6689.00     23508.90    MALE   \n",
              "...                                    ...          ...     ...   \n",
              "100406.40                         29780.54     10521.00    MALE   \n",
              "69062.40                          20483.91     10317.36    MALE   \n",
              "32927.90                           9766.42      4166.52    MALE   \n",
              "39156.66                          17918.27      7793.89    MALE   \n",
              "40299.31                          11952.78      8000.64    MALE   \n",
              "\n",
              "                  ETHNICITY  \n",
              "REGULAR_PAY                  \n",
              "55725.24           HISPANIC  \n",
              "139174.88    ASIAN AMERICAN  \n",
              "245879.12             BLACK  \n",
              "101494.34    ASIAN AMERICAN  \n",
              "101345.12          HISPANIC  \n",
              "...                     ...  \n",
              "100406.40             ASIAN  \n",
              "69062.40           HISPANIC  \n",
              "32927.90          CAUCASIAN  \n",
              "39156.66              ASIAN  \n",
              "40299.31           HISPANIC  \n",
              "\n",
              "[336539 rows x 11 columns]"
            ],
            "text/html": [
              "\n",
              "  <div id=\"df-427cd249-91b8-4c35-b0c4-cc7a3dd9c142\">\n",
              "    <div class=\"colab-df-container\">\n",
              "      <div>\n",
              "<style scoped>\n",
              "    .dataframe tbody tr th:only-of-type {\n",
              "        vertical-align: middle;\n",
              "    }\n",
              "\n",
              "    .dataframe tbody tr th {\n",
              "        vertical-align: top;\n",
              "    }\n",
              "\n",
              "    .dataframe thead th {\n",
              "        text-align: right;\n",
              "    }\n",
              "</style>\n",
              "<table border=\"1\" class=\"dataframe\">\n",
              "  <thead>\n",
              "    <tr style=\"text-align: right;\">\n",
              "      <th></th>\n",
              "      <th>PAY_YEAR</th>\n",
              "      <th>DEPARTMENT_NO</th>\n",
              "      <th>DEPARTMENT_TITLE</th>\n",
              "      <th>JOB_CLASS_PGRADE</th>\n",
              "      <th>JOB_TITLE</th>\n",
              "      <th>OVERTIME_PAY</th>\n",
              "      <th>ALL_OTHER_PAY</th>\n",
              "      <th>CITY_RETIREMENT_CONTRIBUTIONS</th>\n",
              "      <th>BENEFIT_PAY</th>\n",
              "      <th>GENDER</th>\n",
              "      <th>ETHNICITY</th>\n",
              "    </tr>\n",
              "    <tr>\n",
              "      <th>REGULAR_PAY</th>\n",
              "      <th></th>\n",
              "      <th></th>\n",
              "      <th></th>\n",
              "      <th></th>\n",
              "      <th></th>\n",
              "      <th></th>\n",
              "      <th></th>\n",
              "      <th></th>\n",
              "      <th></th>\n",
              "      <th></th>\n",
              "      <th></th>\n",
              "    </tr>\n",
              "  </thead>\n",
              "  <tbody>\n",
              "    <tr>\n",
              "      <th>55725.24</th>\n",
              "      <td>2017</td>\n",
              "      <td>98</td>\n",
              "      <td>WATER AND POWER</td>\n",
              "      <td>3156</td>\n",
              "      <td>CUSTODIAN</td>\n",
              "      <td>4785.05</td>\n",
              "      <td>2021.84</td>\n",
              "      <td>3678.00</td>\n",
              "      <td>23508.90</td>\n",
              "      <td>FEMALE</td>\n",
              "      <td>HISPANIC</td>\n",
              "    </tr>\n",
              "    <tr>\n",
              "      <th>139174.88</th>\n",
              "      <td>2017</td>\n",
              "      <td>98</td>\n",
              "      <td>WATER AND POWER</td>\n",
              "      <td>9105</td>\n",
              "      <td>UTILITY ADMINISTRATOR</td>\n",
              "      <td>16340.50</td>\n",
              "      <td>6170.49</td>\n",
              "      <td>9186.00</td>\n",
              "      <td>23508.90</td>\n",
              "      <td>FEMALE</td>\n",
              "      <td>ASIAN AMERICAN</td>\n",
              "    </tr>\n",
              "    <tr>\n",
              "      <th>245879.12</th>\n",
              "      <td>2017</td>\n",
              "      <td>98</td>\n",
              "      <td>WATER AND POWER</td>\n",
              "      <td>9602</td>\n",
              "      <td>WATER SERVICES MANAGER</td>\n",
              "      <td>0.00</td>\n",
              "      <td>12504.30</td>\n",
              "      <td>16228.00</td>\n",
              "      <td>23508.90</td>\n",
              "      <td>MALE</td>\n",
              "      <td>BLACK</td>\n",
              "    </tr>\n",
              "    <tr>\n",
              "      <th>101494.34</th>\n",
              "      <td>2017</td>\n",
              "      <td>98</td>\n",
              "      <td>WATER AND POWER</td>\n",
              "      <td>5885</td>\n",
              "      <td>WTR TRTMT OPR</td>\n",
              "      <td>7824.99</td>\n",
              "      <td>12630.52</td>\n",
              "      <td>6699.00</td>\n",
              "      <td>23508.90</td>\n",
              "      <td>MALE</td>\n",
              "      <td>ASIAN AMERICAN</td>\n",
              "    </tr>\n",
              "    <tr>\n",
              "      <th>101345.12</th>\n",
              "      <td>2017</td>\n",
              "      <td>98</td>\n",
              "      <td>WATER AND POWER</td>\n",
              "      <td>3841</td>\n",
              "      <td>ELTL MCHC</td>\n",
              "      <td>22284.37</td>\n",
              "      <td>1566.75</td>\n",
              "      <td>6689.00</td>\n",
              "      <td>23508.90</td>\n",
              "      <td>MALE</td>\n",
              "      <td>HISPANIC</td>\n",
              "    </tr>\n",
              "    <tr>\n",
              "      <th>...</th>\n",
              "      <td>...</td>\n",
              "      <td>...</td>\n",
              "      <td>...</td>\n",
              "      <td>...</td>\n",
              "      <td>...</td>\n",
              "      <td>...</td>\n",
              "      <td>...</td>\n",
              "      <td>...</td>\n",
              "      <td>...</td>\n",
              "      <td>...</td>\n",
              "      <td>...</td>\n",
              "    </tr>\n",
              "    <tr>\n",
              "      <th>100406.40</th>\n",
              "      <td>2022</td>\n",
              "      <td>12</td>\n",
              "      <td>CITY ATTORNEY</td>\n",
              "      <td>597</td>\n",
              "      <td>DEPUTY CITY ATTORNEY IV</td>\n",
              "      <td>0.00</td>\n",
              "      <td>0.00</td>\n",
              "      <td>29780.54</td>\n",
              "      <td>10521.00</td>\n",
              "      <td>MALE</td>\n",
              "      <td>ASIAN</td>\n",
              "    </tr>\n",
              "    <tr>\n",
              "      <th>69062.40</th>\n",
              "      <td>2022</td>\n",
              "      <td>42</td>\n",
              "      <td>HARBOR</td>\n",
              "      <td>9485</td>\n",
              "      <td>SENIOR CIVIL ENGINEER</td>\n",
              "      <td>0.00</td>\n",
              "      <td>9193.85</td>\n",
              "      <td>20483.91</td>\n",
              "      <td>10317.36</td>\n",
              "      <td>MALE</td>\n",
              "      <td>HISPANIC</td>\n",
              "    </tr>\n",
              "    <tr>\n",
              "      <th>32927.90</th>\n",
              "      <td>2022</td>\n",
              "      <td>4</td>\n",
              "      <td>AIRPORTS</td>\n",
              "      <td>3181</td>\n",
              "      <td>SECURITY OFFICER</td>\n",
              "      <td>4855.63</td>\n",
              "      <td>2533.37</td>\n",
              "      <td>9766.42</td>\n",
              "      <td>4166.52</td>\n",
              "      <td>MALE</td>\n",
              "      <td>CAUCASIAN</td>\n",
              "    </tr>\n",
              "    <tr>\n",
              "      <th>39156.66</th>\n",
              "      <td>2022</td>\n",
              "      <td>70</td>\n",
              "      <td>POLICE</td>\n",
              "      <td>2214</td>\n",
              "      <td>POLICE OFFICER II</td>\n",
              "      <td>4978.06</td>\n",
              "      <td>3480.00</td>\n",
              "      <td>17918.27</td>\n",
              "      <td>7793.89</td>\n",
              "      <td>MALE</td>\n",
              "      <td>ASIAN</td>\n",
              "    </tr>\n",
              "    <tr>\n",
              "      <th>40299.31</th>\n",
              "      <td>2022</td>\n",
              "      <td>70</td>\n",
              "      <td>POLICE</td>\n",
              "      <td>3711</td>\n",
              "      <td>EQUIPMENT MECHANIC</td>\n",
              "      <td>5438.40</td>\n",
              "      <td>3830.20</td>\n",
              "      <td>11952.78</td>\n",
              "      <td>8000.64</td>\n",
              "      <td>MALE</td>\n",
              "      <td>HISPANIC</td>\n",
              "    </tr>\n",
              "  </tbody>\n",
              "</table>\n",
              "<p>336539 rows × 11 columns</p>\n",
              "</div>\n",
              "      <button class=\"colab-df-convert\" onclick=\"convertToInteractive('df-427cd249-91b8-4c35-b0c4-cc7a3dd9c142')\"\n",
              "              title=\"Convert this dataframe to an interactive table.\"\n",
              "              style=\"display:none;\">\n",
              "        \n",
              "  <svg xmlns=\"http://www.w3.org/2000/svg\" height=\"24px\"viewBox=\"0 0 24 24\"\n",
              "       width=\"24px\">\n",
              "    <path d=\"M0 0h24v24H0V0z\" fill=\"none\"/>\n",
              "    <path d=\"M18.56 5.44l.94 2.06.94-2.06 2.06-.94-2.06-.94-.94-2.06-.94 2.06-2.06.94zm-11 1L8.5 8.5l.94-2.06 2.06-.94-2.06-.94L8.5 2.5l-.94 2.06-2.06.94zm10 10l.94 2.06.94-2.06 2.06-.94-2.06-.94-.94-2.06-.94 2.06-2.06.94z\"/><path d=\"M17.41 7.96l-1.37-1.37c-.4-.4-.92-.59-1.43-.59-.52 0-1.04.2-1.43.59L10.3 9.45l-7.72 7.72c-.78.78-.78 2.05 0 2.83L4 21.41c.39.39.9.59 1.41.59.51 0 1.02-.2 1.41-.59l7.78-7.78 2.81-2.81c.8-.78.8-2.07 0-2.86zM5.41 20L4 18.59l7.72-7.72 1.47 1.35L5.41 20z\"/>\n",
              "  </svg>\n",
              "      </button>\n",
              "      \n",
              "  <style>\n",
              "    .colab-df-container {\n",
              "      display:flex;\n",
              "      flex-wrap:wrap;\n",
              "      gap: 12px;\n",
              "    }\n",
              "\n",
              "    .colab-df-convert {\n",
              "      background-color: #E8F0FE;\n",
              "      border: none;\n",
              "      border-radius: 50%;\n",
              "      cursor: pointer;\n",
              "      display: none;\n",
              "      fill: #1967D2;\n",
              "      height: 32px;\n",
              "      padding: 0 0 0 0;\n",
              "      width: 32px;\n",
              "    }\n",
              "\n",
              "    .colab-df-convert:hover {\n",
              "      background-color: #E2EBFA;\n",
              "      box-shadow: 0px 1px 2px rgba(60, 64, 67, 0.3), 0px 1px 3px 1px rgba(60, 64, 67, 0.15);\n",
              "      fill: #174EA6;\n",
              "    }\n",
              "\n",
              "    [theme=dark] .colab-df-convert {\n",
              "      background-color: #3B4455;\n",
              "      fill: #D2E3FC;\n",
              "    }\n",
              "\n",
              "    [theme=dark] .colab-df-convert:hover {\n",
              "      background-color: #434B5C;\n",
              "      box-shadow: 0px 1px 3px 1px rgba(0, 0, 0, 0.15);\n",
              "      filter: drop-shadow(0px 1px 2px rgba(0, 0, 0, 0.3));\n",
              "      fill: #FFFFFF;\n",
              "    }\n",
              "  </style>\n",
              "\n",
              "      <script>\n",
              "        const buttonEl =\n",
              "          document.querySelector('#df-427cd249-91b8-4c35-b0c4-cc7a3dd9c142 button.colab-df-convert');\n",
              "        buttonEl.style.display =\n",
              "          google.colab.kernel.accessAllowed ? 'block' : 'none';\n",
              "\n",
              "        async function convertToInteractive(key) {\n",
              "          const element = document.querySelector('#df-427cd249-91b8-4c35-b0c4-cc7a3dd9c142');\n",
              "          const dataTable =\n",
              "            await google.colab.kernel.invokeFunction('convertToInteractive',\n",
              "                                                     [key], {});\n",
              "          if (!dataTable) return;\n",
              "\n",
              "          const docLinkHtml = 'Like what you see? Visit the ' +\n",
              "            '<a target=\"_blank\" href=https://colab.research.google.com/notebooks/data_table.ipynb>data table notebook</a>'\n",
              "            + ' to learn more about interactive tables.';\n",
              "          element.innerHTML = '';\n",
              "          dataTable['output_type'] = 'display_data';\n",
              "          await google.colab.output.renderOutput(dataTable, element);\n",
              "          const docLink = document.createElement('div');\n",
              "          docLink.innerHTML = docLinkHtml;\n",
              "          element.appendChild(docLink);\n",
              "        }\n",
              "      </script>\n",
              "    </div>\n",
              "  </div>\n",
              "  "
            ]
          },
          "metadata": {},
          "execution_count": 52
        }
      ]
    },
    {
      "cell_type": "markdown",
      "source": [
        "changing the string columins to numeric"
      ],
      "metadata": {
        "id": "nXwIrFZjL2sk"
      }
    },
    {
      "cell_type": "code",
      "execution_count": null,
      "metadata": {
        "id": "xVBrnUtkGvyV",
        "colab": {
          "base_uri": "https://localhost:8080/",
          "height": 455
        },
        "outputId": "3c8f39eb-800b-4c1b-f788-f5bb729f8a78"
      },
      "outputs": [
        {
          "output_type": "execute_result",
          "data": {
            "text/plain": [
              "             PAY_YEAR  DEPARTMENT_NO  JOB_CLASS_PGRADE  JOB_TITLE  \\\n",
              "REGULAR_PAY                                                         \n",
              "55725.24         2017             98              3156          0   \n",
              "139174.88        2017             98              9105          1   \n",
              "245879.12        2017             98              9602          2   \n",
              "101494.34        2017             98              5885          3   \n",
              "101345.12        2017             98              3841          4   \n",
              "...               ...            ...               ...        ...   \n",
              "100406.40        2022             12               597        446   \n",
              "69062.40         2022             42              9485        390   \n",
              "32927.90         2022              4              3181        416   \n",
              "39156.66         2022             70              2214        189   \n",
              "40299.31         2022             70              3711        440   \n",
              "\n",
              "             OVERTIME_PAY  ALL_OTHER_PAY  CITY_RETIREMENT_CONTRIBUTIONS  \\\n",
              "REGULAR_PAY                                                               \n",
              "55725.24          4785.05        2021.84                        3678.00   \n",
              "139174.88        16340.50        6170.49                        9186.00   \n",
              "245879.12            0.00       12504.30                       16228.00   \n",
              "101494.34         7824.99       12630.52                        6699.00   \n",
              "101345.12        22284.37        1566.75                        6689.00   \n",
              "...                   ...            ...                            ...   \n",
              "100406.40            0.00           0.00                       29780.54   \n",
              "69062.40             0.00        9193.85                       20483.91   \n",
              "32927.90          4855.63        2533.37                        9766.42   \n",
              "39156.66          4978.06        3480.00                       17918.27   \n",
              "40299.31          5438.40        3830.20                       11952.78   \n",
              "\n",
              "             BENEFIT_PAY  GENDER  ETHNICITY  \n",
              "REGULAR_PAY                                  \n",
              "55725.24        23508.90       0          0  \n",
              "139174.88       23508.90       0          1  \n",
              "245879.12       23508.90       1          2  \n",
              "101494.34       23508.90       1          1  \n",
              "101345.12       23508.90       1          0  \n",
              "...                  ...     ...        ...  \n",
              "100406.40       10521.00       1          7  \n",
              "69062.40        10317.36       1          0  \n",
              "32927.90         4166.52       1          3  \n",
              "39156.66         7793.89       1          7  \n",
              "40299.31         8000.64       1          0  \n",
              "\n",
              "[336539 rows x 10 columns]"
            ],
            "text/html": [
              "\n",
              "  <div id=\"df-9316996e-5bbb-4057-8a5f-79f17844da20\">\n",
              "    <div class=\"colab-df-container\">\n",
              "      <div>\n",
              "<style scoped>\n",
              "    .dataframe tbody tr th:only-of-type {\n",
              "        vertical-align: middle;\n",
              "    }\n",
              "\n",
              "    .dataframe tbody tr th {\n",
              "        vertical-align: top;\n",
              "    }\n",
              "\n",
              "    .dataframe thead th {\n",
              "        text-align: right;\n",
              "    }\n",
              "</style>\n",
              "<table border=\"1\" class=\"dataframe\">\n",
              "  <thead>\n",
              "    <tr style=\"text-align: right;\">\n",
              "      <th></th>\n",
              "      <th>PAY_YEAR</th>\n",
              "      <th>DEPARTMENT_NO</th>\n",
              "      <th>JOB_CLASS_PGRADE</th>\n",
              "      <th>JOB_TITLE</th>\n",
              "      <th>OVERTIME_PAY</th>\n",
              "      <th>ALL_OTHER_PAY</th>\n",
              "      <th>CITY_RETIREMENT_CONTRIBUTIONS</th>\n",
              "      <th>BENEFIT_PAY</th>\n",
              "      <th>GENDER</th>\n",
              "      <th>ETHNICITY</th>\n",
              "    </tr>\n",
              "    <tr>\n",
              "      <th>REGULAR_PAY</th>\n",
              "      <th></th>\n",
              "      <th></th>\n",
              "      <th></th>\n",
              "      <th></th>\n",
              "      <th></th>\n",
              "      <th></th>\n",
              "      <th></th>\n",
              "      <th></th>\n",
              "      <th></th>\n",
              "      <th></th>\n",
              "    </tr>\n",
              "  </thead>\n",
              "  <tbody>\n",
              "    <tr>\n",
              "      <th>55725.24</th>\n",
              "      <td>2017</td>\n",
              "      <td>98</td>\n",
              "      <td>3156</td>\n",
              "      <td>0</td>\n",
              "      <td>4785.05</td>\n",
              "      <td>2021.84</td>\n",
              "      <td>3678.00</td>\n",
              "      <td>23508.90</td>\n",
              "      <td>0</td>\n",
              "      <td>0</td>\n",
              "    </tr>\n",
              "    <tr>\n",
              "      <th>139174.88</th>\n",
              "      <td>2017</td>\n",
              "      <td>98</td>\n",
              "      <td>9105</td>\n",
              "      <td>1</td>\n",
              "      <td>16340.50</td>\n",
              "      <td>6170.49</td>\n",
              "      <td>9186.00</td>\n",
              "      <td>23508.90</td>\n",
              "      <td>0</td>\n",
              "      <td>1</td>\n",
              "    </tr>\n",
              "    <tr>\n",
              "      <th>245879.12</th>\n",
              "      <td>2017</td>\n",
              "      <td>98</td>\n",
              "      <td>9602</td>\n",
              "      <td>2</td>\n",
              "      <td>0.00</td>\n",
              "      <td>12504.30</td>\n",
              "      <td>16228.00</td>\n",
              "      <td>23508.90</td>\n",
              "      <td>1</td>\n",
              "      <td>2</td>\n",
              "    </tr>\n",
              "    <tr>\n",
              "      <th>101494.34</th>\n",
              "      <td>2017</td>\n",
              "      <td>98</td>\n",
              "      <td>5885</td>\n",
              "      <td>3</td>\n",
              "      <td>7824.99</td>\n",
              "      <td>12630.52</td>\n",
              "      <td>6699.00</td>\n",
              "      <td>23508.90</td>\n",
              "      <td>1</td>\n",
              "      <td>1</td>\n",
              "    </tr>\n",
              "    <tr>\n",
              "      <th>101345.12</th>\n",
              "      <td>2017</td>\n",
              "      <td>98</td>\n",
              "      <td>3841</td>\n",
              "      <td>4</td>\n",
              "      <td>22284.37</td>\n",
              "      <td>1566.75</td>\n",
              "      <td>6689.00</td>\n",
              "      <td>23508.90</td>\n",
              "      <td>1</td>\n",
              "      <td>0</td>\n",
              "    </tr>\n",
              "    <tr>\n",
              "      <th>...</th>\n",
              "      <td>...</td>\n",
              "      <td>...</td>\n",
              "      <td>...</td>\n",
              "      <td>...</td>\n",
              "      <td>...</td>\n",
              "      <td>...</td>\n",
              "      <td>...</td>\n",
              "      <td>...</td>\n",
              "      <td>...</td>\n",
              "      <td>...</td>\n",
              "    </tr>\n",
              "    <tr>\n",
              "      <th>100406.40</th>\n",
              "      <td>2022</td>\n",
              "      <td>12</td>\n",
              "      <td>597</td>\n",
              "      <td>446</td>\n",
              "      <td>0.00</td>\n",
              "      <td>0.00</td>\n",
              "      <td>29780.54</td>\n",
              "      <td>10521.00</td>\n",
              "      <td>1</td>\n",
              "      <td>7</td>\n",
              "    </tr>\n",
              "    <tr>\n",
              "      <th>69062.40</th>\n",
              "      <td>2022</td>\n",
              "      <td>42</td>\n",
              "      <td>9485</td>\n",
              "      <td>390</td>\n",
              "      <td>0.00</td>\n",
              "      <td>9193.85</td>\n",
              "      <td>20483.91</td>\n",
              "      <td>10317.36</td>\n",
              "      <td>1</td>\n",
              "      <td>0</td>\n",
              "    </tr>\n",
              "    <tr>\n",
              "      <th>32927.90</th>\n",
              "      <td>2022</td>\n",
              "      <td>4</td>\n",
              "      <td>3181</td>\n",
              "      <td>416</td>\n",
              "      <td>4855.63</td>\n",
              "      <td>2533.37</td>\n",
              "      <td>9766.42</td>\n",
              "      <td>4166.52</td>\n",
              "      <td>1</td>\n",
              "      <td>3</td>\n",
              "    </tr>\n",
              "    <tr>\n",
              "      <th>39156.66</th>\n",
              "      <td>2022</td>\n",
              "      <td>70</td>\n",
              "      <td>2214</td>\n",
              "      <td>189</td>\n",
              "      <td>4978.06</td>\n",
              "      <td>3480.00</td>\n",
              "      <td>17918.27</td>\n",
              "      <td>7793.89</td>\n",
              "      <td>1</td>\n",
              "      <td>7</td>\n",
              "    </tr>\n",
              "    <tr>\n",
              "      <th>40299.31</th>\n",
              "      <td>2022</td>\n",
              "      <td>70</td>\n",
              "      <td>3711</td>\n",
              "      <td>440</td>\n",
              "      <td>5438.40</td>\n",
              "      <td>3830.20</td>\n",
              "      <td>11952.78</td>\n",
              "      <td>8000.64</td>\n",
              "      <td>1</td>\n",
              "      <td>0</td>\n",
              "    </tr>\n",
              "  </tbody>\n",
              "</table>\n",
              "<p>336539 rows × 10 columns</p>\n",
              "</div>\n",
              "      <button class=\"colab-df-convert\" onclick=\"convertToInteractive('df-9316996e-5bbb-4057-8a5f-79f17844da20')\"\n",
              "              title=\"Convert this dataframe to an interactive table.\"\n",
              "              style=\"display:none;\">\n",
              "        \n",
              "  <svg xmlns=\"http://www.w3.org/2000/svg\" height=\"24px\"viewBox=\"0 0 24 24\"\n",
              "       width=\"24px\">\n",
              "    <path d=\"M0 0h24v24H0V0z\" fill=\"none\"/>\n",
              "    <path d=\"M18.56 5.44l.94 2.06.94-2.06 2.06-.94-2.06-.94-.94-2.06-.94 2.06-2.06.94zm-11 1L8.5 8.5l.94-2.06 2.06-.94-2.06-.94L8.5 2.5l-.94 2.06-2.06.94zm10 10l.94 2.06.94-2.06 2.06-.94-2.06-.94-.94-2.06-.94 2.06-2.06.94z\"/><path d=\"M17.41 7.96l-1.37-1.37c-.4-.4-.92-.59-1.43-.59-.52 0-1.04.2-1.43.59L10.3 9.45l-7.72 7.72c-.78.78-.78 2.05 0 2.83L4 21.41c.39.39.9.59 1.41.59.51 0 1.02-.2 1.41-.59l7.78-7.78 2.81-2.81c.8-.78.8-2.07 0-2.86zM5.41 20L4 18.59l7.72-7.72 1.47 1.35L5.41 20z\"/>\n",
              "  </svg>\n",
              "      </button>\n",
              "      \n",
              "  <style>\n",
              "    .colab-df-container {\n",
              "      display:flex;\n",
              "      flex-wrap:wrap;\n",
              "      gap: 12px;\n",
              "    }\n",
              "\n",
              "    .colab-df-convert {\n",
              "      background-color: #E8F0FE;\n",
              "      border: none;\n",
              "      border-radius: 50%;\n",
              "      cursor: pointer;\n",
              "      display: none;\n",
              "      fill: #1967D2;\n",
              "      height: 32px;\n",
              "      padding: 0 0 0 0;\n",
              "      width: 32px;\n",
              "    }\n",
              "\n",
              "    .colab-df-convert:hover {\n",
              "      background-color: #E2EBFA;\n",
              "      box-shadow: 0px 1px 2px rgba(60, 64, 67, 0.3), 0px 1px 3px 1px rgba(60, 64, 67, 0.15);\n",
              "      fill: #174EA6;\n",
              "    }\n",
              "\n",
              "    [theme=dark] .colab-df-convert {\n",
              "      background-color: #3B4455;\n",
              "      fill: #D2E3FC;\n",
              "    }\n",
              "\n",
              "    [theme=dark] .colab-df-convert:hover {\n",
              "      background-color: #434B5C;\n",
              "      box-shadow: 0px 1px 3px 1px rgba(0, 0, 0, 0.15);\n",
              "      filter: drop-shadow(0px 1px 2px rgba(0, 0, 0, 0.3));\n",
              "      fill: #FFFFFF;\n",
              "    }\n",
              "  </style>\n",
              "\n",
              "      <script>\n",
              "        const buttonEl =\n",
              "          document.querySelector('#df-9316996e-5bbb-4057-8a5f-79f17844da20 button.colab-df-convert');\n",
              "        buttonEl.style.display =\n",
              "          google.colab.kernel.accessAllowed ? 'block' : 'none';\n",
              "\n",
              "        async function convertToInteractive(key) {\n",
              "          const element = document.querySelector('#df-9316996e-5bbb-4057-8a5f-79f17844da20');\n",
              "          const dataTable =\n",
              "            await google.colab.kernel.invokeFunction('convertToInteractive',\n",
              "                                                     [key], {});\n",
              "          if (!dataTable) return;\n",
              "\n",
              "          const docLinkHtml = 'Like what you see? Visit the ' +\n",
              "            '<a target=\"_blank\" href=https://colab.research.google.com/notebooks/data_table.ipynb>data table notebook</a>'\n",
              "            + ' to learn more about interactive tables.';\n",
              "          element.innerHTML = '';\n",
              "          dataTable['output_type'] = 'display_data';\n",
              "          await google.colab.output.renderOutput(dataTable, element);\n",
              "          const docLink = document.createElement('div');\n",
              "          docLink.innerHTML = docLinkHtml;\n",
              "          element.appendChild(docLink);\n",
              "        }\n",
              "      </script>\n",
              "    </div>\n",
              "  </div>\n",
              "  "
            ]
          },
          "metadata": {},
          "execution_count": 53
        }
      ],
      "source": [
        "\n",
        "\n",
        "# labelling the categorical variables\n",
        "\n",
        "jtl = df2['JOB_TITLE'].unique().tolist()\n",
        "jti = [x for x in range(len(jtl))]\n",
        "df2['JOB_TITLE'].replace(jtl, jti, inplace=True)\n",
        "\n",
        "\n",
        "df2.drop('DEPARTMENT_TITLE', axis=1, inplace=True)\n",
        "\n",
        "gl = df2['GENDER'].unique().tolist()\n",
        "gi = [x for x in range(len(gl))]\n",
        "df2['GENDER'].replace(gl, gi , inplace=True)\n",
        "\n",
        "el = df2['ETHNICITY'].unique().tolist()\n",
        "ei = [x for x in range(len(el))]\n",
        "df2['ETHNICITY'].replace(el, ei, inplace=True)\n",
        "\n",
        "df2"
      ]
    },
    {
      "cell_type": "markdown",
      "source": [
        "splitting the data (test and train)"
      ],
      "metadata": {
        "id": "vGH4D5kbMcE7"
      }
    },
    {
      "cell_type": "code",
      "source": [
        "y = df2.index//1000\n",
        "\"\"\"\n",
        "divide the data set by 1000 to make categories instead of amount of money\n",
        "for example:\n",
        "  0-999 is labeled by 0\n",
        "  1-1999 is labeled by 1\n",
        "  45-45999 is labeled by 45\n",
        "  ...\n",
        "  etc\n",
        "\"\"\"\n",
        "X = df2[['PAY_YEAR', 'DEPARTMENT_NO', 'JOB_CLASS_PGRADE', 'JOB_TITLE', 'OVERTIME_PAY', 'ALL_OTHER_PAY', 'CITY_RETIREMENT_CONTRIBUTIONS', 'BENEFIT_PAY', 'GENDER', 'ETHNICITY']].copy()\n",
        "X_train, X_test, y_train, y_test = train_test_split(X,y, test_size = 0.20)\n",
        "print(f\"Training set shape: ({X_train.shape}, {y_train.shape})\")\n",
        "print(f\"Testing set shape: ({X_test.shape}, {y_test.shape})\")\n"
      ],
      "metadata": {
        "colab": {
          "base_uri": "https://localhost:8080/"
        },
        "id": "0y35nA2j0fT_",
        "outputId": "cd31a7f0-f7bb-4be5-e702-b207d4377e4a"
      },
      "execution_count": null,
      "outputs": [
        {
          "output_type": "stream",
          "name": "stdout",
          "text": [
            "Training set shape: ((269231, 10), (269231,))\n",
            "Testing set shape: ((67308, 10), (67308,))\n"
          ]
        }
      ]
    },
    {
      "cell_type": "markdown",
      "source": [
        "Prediction using decision tree classifier"
      ],
      "metadata": {
        "id": "UX8utwU4MsLr"
      }
    },
    {
      "cell_type": "code",
      "source": [
        "dt = tree.DecisionTreeClassifier().fit(X_train, y_train)\n",
        "dt_pred = dt.predict(X_test)\n",
        "print(f\"Decision tree accuracy:{metrics.accuracy_score(y_test,dt_pred)}\")"
      ],
      "metadata": {
        "colab": {
          "base_uri": "https://localhost:8080/"
        },
        "id": "GK8mQehD0ihf",
        "outputId": "6736ee5d-9fed-4067-e069-91f52a2cf788"
      },
      "execution_count": null,
      "outputs": [
        {
          "output_type": "stream",
          "name": "stdout",
          "text": [
            "Decision tree accuracy:0.88182682593451\n"
          ]
        }
      ]
    },
    {
      "cell_type": "markdown",
      "source": [
        "Prediction using random forest classifier"
      ],
      "metadata": {
        "id": "O3MIpWMzM4pk"
      }
    },
    {
      "cell_type": "code",
      "source": [
        "rf = RandomForestClassifier(n_estimators=10).fit(X_train, y_train)\n",
        "rf_pred = rf.predict(X_test)\n",
        "print(f\"Random Forest accuracy:{metrics.accuracy_score(y_test,rf_pred)}\")"
      ],
      "metadata": {
        "colab": {
          "base_uri": "https://localhost:8080/"
        },
        "id": "CCWSJDz01KwH",
        "outputId": "d1b660fb-d724-4ad6-c5ec-674b830db520"
      },
      "execution_count": null,
      "outputs": [
        {
          "output_type": "stream",
          "name": "stdout",
          "text": [
            "Random Forest accuracy:0.6984459499613717\n"
          ]
        }
      ]
    },
    {
      "cell_type": "markdown",
      "source": [
        "Prediction using random forest regressor"
      ],
      "metadata": {
        "id": "VvmpBpZOM_Dc"
      }
    },
    {
      "cell_type": "code",
      "source": [
        "y = df2.index\n",
        "X = df2[['PAY_YEAR', 'DEPARTMENT_NO', 'JOB_CLASS_PGRADE', 'JOB_TITLE', 'OVERTIME_PAY', 'ALL_OTHER_PAY', 'CITY_RETIREMENT_CONTRIBUTIONS', 'BENEFIT_PAY', 'GENDER', 'ETHNICITY']].copy()\n",
        "X_train, X_test, y_train, y_test = train_test_split(X,y, test_size = 0.20)\n",
        "rfr = RandomForestRegressor(n_estimators=100, random_state=1).fit(X_train, y_train)\n",
        "rfr_pred = rfr.predict(X_test)\n",
        "print(f\"error radios: {mean_absolute_error(y_test, rfr_pred)}\")"
      ],
      "metadata": {
        "colab": {
          "base_uri": "https://localhost:8080/"
        },
        "id": "lrlmfWK716Am",
        "outputId": "862f9777-b220-47cc-c843-42facad6864d"
      },
      "execution_count": null,
      "outputs": [
        {
          "output_type": "stream",
          "name": "stdout",
          "text": [
            "mean absolute error: 1131.5150977629814\n"
          ]
        }
      ]
    },
    {
      "cell_type": "markdown",
      "source": [
        "# **note**\n",
        "\n",
        "we can see that Decision Tree algorithm is much more accurate from the random forest classifier \n",
        "even though the accuracy of the Decision Tree is around 88 that is not accurate\n",
        "because in our case when the Decision Tree predict 6999\n",
        "instead of 7000 the algorithm think that the prediction is wrong where when the decision Tree predict 6999 instead of 6000 the algorithm accept the prediction as success even though the gap is bigger (the same thing happen to RandomForestClassifier)\n",
        "\n",
        "that's why I used RandomForestRegressor algorithm which calculate the error radios instead "
      ],
      "metadata": {
        "id": "eT_vUdtoSyO9"
      }
    }
  ]
}